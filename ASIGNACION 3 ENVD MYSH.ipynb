{
  "nbformat": 4,
  "nbformat_minor": 0,
  "metadata": {
    "colab": {
      "provenance": []
    },
    "kernelspec": {
      "name": "python3",
      "display_name": "Python 3"
    },
    "language_info": {
      "name": "python"
    }
  },
  "cells": [
    {
      "cell_type": "markdown",
      "source": [
        "#**Asignacion 3 - Investigacion**\n",
        "\n",
        "26/01/2025\n",
        "\n",
        "Investigación de como son y como se generan los hitorigramas, diagramas de tallo y hoja, y diagramas de caja.\n",
        "\n",
        "\n",
        "\n",
        "---\n",
        "##**Diagrama de Caja y Bigotes**\n",
        "*Ángel Gabriel Valenzuela Guerrero*\n",
        "\n",
        "\n",
        "Un **diagrama de caja** (también conocido como **boxplot**) es una herramienta gráfica utilizada en estadística para representar de manera resumida la distribución de un conjunto de datos numéricos.\n",
        "\n",
        "![texto del vínculo](https://drive.google.com/uc?id=1QdAy0ZpNlIA5tdaVQ7L51w5eFO8dwU-i)\n",
        "\n",
        "### **Componentes principales de un diagrama de caja.**\n",
        "\n",
        "1. **Caja.**\n",
        "    \n",
        "    Representa el rango intercuartílico (**IQR**), que es la diferencia entre el tercer cuartil (**Q3**) y el primer cuartil (**Q1**).\n",
        "    \n",
        "    Dentro de la caja, suele haber una línea que representa la **mediana** (**Q2**).\n",
        "\n",
        "\n",
        "    \n",
        "2. **Bigotes.**\n",
        "    \n",
        "    Indican la extensión de los datos hasta el *valor más pequeño* y el *valor más grande* que no son considerados atípicos.\n",
        "    \n",
        "    Se calculan:\n",
        "    \n",
        "    **Bigote inferior** = **Q1** − 1.5×**IQR**\n",
        "    \n",
        "    **Bigote superior** = **Q3** + 1.5×**IQR**\n",
        "\n",
        "\n",
        "    \n",
        "3. **Valores atípicos.**\n",
        "    \n",
        "    Son puntos de datos que caen fuera de los límites de los bigotes.\n",
        "    \n",
        "    Se representan como puntos individuales en el gráfico.\n",
        "\n",
        "\n",
        "    \n",
        "4. **Extremos:**\n",
        "    \n",
        "    El valor **Mínimo** y el valor **Máximo** dentro del rango permitido ([**Q1**−1.5×**IQR , Q3**+1.5×**IQR**]).\n",
        "\n",
        "##Ejemplo\n",
        "\n",
        "De una poblacion de 14 personas de obtubieron las siguentes edades:\n",
        "\n",
        "11,15,14,16,17,10,15,11,18,16,12,14,15,14.\n",
        "\n",
        "Se ordenan de mayor a menor los elementos y se obtines los valores **Max** y **Min** de la poblacion.\n",
        "\n",
        "**10**,11,11,12,14,14,14,15,15,15,16,16,17,**18**\n",
        "\n",
        "A partir de este orden se obtienen los valores:\n",
        "*Mediana* (**Q2**).\n",
        "\n",
        "\n",
        "*En este caso como el total de la poblacion resulta en un numero par, la mediana se obtiene del valor promedio de los 2 valores centrales(**14,15**).*\n",
        "\n",
        "**Q2** = *14.5*\n",
        "\n",
        "*Minimo*.\n",
        "\n",
        "Es la *Mediana* de la seccion que se encuentra antes de la *mediana* de la poblacion(**Q1**).\n",
        "\n",
        "10,11,**11,12**,14,14\n",
        "\n",
        "**Q1** = *11.5*\n",
        "\n",
        "*Cuartil 3 (**Q3**)*.\n",
        "\n",
        "Es la *Mediana* de la seccion que se encuentra despues de la *mediana* de la poblacion(**Q1**).\n",
        "\n",
        "15,15,**16,16**,17,18\n",
        "\n",
        "**Q3** = *16*\n",
        "\n",
        "\n",
        "*Bigotes*\n",
        "\n",
        "Para calcular los extremos y poder identificar valores de los extremos minimo y maximo de la poblacion, neceistamos obtener el Rango Intercuartilico(**IQR**).\n",
        "\n",
        "**IQR** = Q3 - Q1 = 16 - 11.5 = 4.5\n",
        "\n",
        "Entonces:\n",
        "\n",
        "*Bigote inferior* = **Q1** − 1.5(**IQR**) = 11.5 - 1.5(4.5)= 4.75\n",
        "\n",
        "*Bigote superior* = **Q3** + 1.5(**IQR**) = 16 + 1.5(4.5)= 22.75\n",
        "\n",
        "Con los siguinetes valores se puede representar un Diagrama de Cajas y bigotes como e que se muestra al inicio.\n",
        "\n",
        "\n",
        "\n"
      ],
      "metadata": {
        "id": "84lscsFyJedB"
      }
    },
    {
      "cell_type": "markdown",
      "source": [
        "---\n",
        "\n",
        "# **Diagramas de tallo y hojas**\n",
        "\n",
        "*Yuridia Selene Rodriguez Cortinas*\n",
        "\n",
        "Un diagrama de tallos y hojas muestra datos numéricos al separar cada punto de datos en una \"hoja\" (normalmente el último dígito) y un \"tallo\" (el dígito o dígitos principales).Es una herramienta estadística utilizada para organizar y representar datos numéricos de manera visual.\n",
        "\n",
        "**tallo:**  Corresponde a las cifras más significativas (generalmente las decenas o centenas).\n",
        "\n",
        "**hoja:**  Es la parte más pequeña del número (por ejemplo, las unidades o los decimales).\n",
        "\n",
        "##**Características de un Diagrama de Tallo y Hoja:**\n",
        "\n",
        "**Visualización rápida:**: Permite ver la distribución de los datos de manera rápida y sencilla.\n",
        "\n",
        "**Agrupación:** Agrupa datos que tienen la misma parte del tallo, lo que facilita identificar patrones y la frecuencia de ciertos valores.\n",
        "\n",
        "**Orden:** Los datos deben estar ordenados de menor a mayor. Esto ayuda a una mejor visualización.\n",
        "\n",
        "**Fácil interpretación:** Al organizar los números de esta manera, se puede observar rápidamente la mediana, la moda, los rangos de los datos y otras características estadísticas.\n",
        "\n",
        "Un ejemplo de un diagrama tallo hoja es el que se muestra a continuación:"
      ],
      "metadata": {
        "id": "rdJvYWzqd_hv"
      }
    },
    {
      "cell_type": "markdown",
      "source": [
        "# ![texto del vínculo](https://drive.google.com/uc?id=1O1-c4DD7cLMGJsHx2By1yUU1lyMoEgrW)"
      ],
      "metadata": {
        "id": "WN-lWR0XEbYk"
      }
    },
    {
      "cell_type": "markdown",
      "source": [
        "##**¿Como hacer un diagrama tallo hoja?**\n",
        "\n",
        "**1. Preparar los datos:** Toma un conjunto de datos numéricos\n",
        "\n",
        "**2.Organiza los datos:** Ordena los datos de menor a mayor\n",
        "\n",
        "**3.Crear el tallo**: Dibuja una línea vertical en un papel o en una herramienta de dibujo digital. Esta línea será el \"tallo\" del diagrama.\n",
        "\n",
        "**4.Crear las hojas**: A la derecha del tallo, dibuja una serie de líneas horizontales. Cada línea horizontal representará una \"hoja\" del diagrama.\n",
        "\n",
        "**5.Introducir los datos al diagrama:** Toma cada dato del conjunto de datos y asigna la parte entera del dato al tallo. La parte decimal del dato se asignará a la hoja correspondiente.\n"
      ],
      "metadata": {
        "id": "D0KsCpAxEBZZ"
      }
    },
    {
      "cell_type": "markdown",
      "source": [
        "**Ejemplo**\n",
        "\n",
        "**1-** El comprador de una cadena de grandes almacenes cuenta el número de pares de botas en cada una de las tiendas y hace un diagrama de tallos y hojas. Aquí están el conjunto de datos y el diagrama de tallos y hojas:\n",
        "\n",
        "Conjunto de datos: 17, 18, 20, 25, 28, 34, 34, 37, 38, 50\n"
      ],
      "metadata": {
        "id": "JM88cLV8EJD_"
      }
    },
    {
      "cell_type": "markdown",
      "source": [
        "![texto del vínculo](https://drive.google.com/uc?id=1O1-c4DD7cLMGJsHx2By1yUU1lyMoEgrW)"
      ],
      "metadata": {
        "id": "Lk6I5Y5nETYV"
      }
    },
    {
      "cell_type": "markdown",
      "source": [
        "---\n",
        "\n",
        "#**Histograma**\n",
        "\n",
        "*Maya Yuliana Solis Hernandez*\n",
        "\n",
        "####Es una manera en la que se distribuye un conjunto de datos. Un histograma muestra datos de forma continua dividios en intervalos. Las barras de un histogrma representan la frecuencia de datos que caen dentro de cada intrvalo.\n",
        "\n",
        "###**Pasos para realizar un histograma**\n",
        "\n",
        "####1.   **Recoleccion de datos :** Enlistar los números que quieres analiza.\n",
        "####Ej; La altura de tus amigos\n",
        "####150cm, 162cm, 163cm, 170cm, 175cm.\n",
        "\n",
        "####2.   **Determinar el rango :** Encuentra el valor mas pequeño y el mas grande de tu lista\n",
        "####Ej; La altura menor es 150cm y la mas alta es 175cm\n",
        "\n",
        "####3.   **Dividir en intervalos:** Dividir el rango en segmentos mas pequeños.\n",
        "#####Ej: Dividir las alturas en grupos de (150-160, 160-170)\n",
        "\n",
        "####4.   **Contar la frecuencia :** Contar los datos que cae en cada intervalo\n",
        "####Ej:Si tienes 3 amigos que miden entre 150 y 160 cm, la frecuencia para ese intervalo es de 3.\n",
        "####5.   **Dibujar el histograma :** Usar las barras para mostar cuantos datos tienes en cada intervalo. Cada barra representa la cantidad de datos en un intervalo.\n",
        "\n",
        "###**Caracteristicas de un Histograma**\n",
        "####1. Barras juntas: La barras estan pegadas mostrando que los datos son continuos.\n",
        "####2. Intervalos: Se dividen los datos en grupos pequeños llamados intervalos. Cada barra representa un grupo.\n",
        "####3. Frecuencia: La altura de cada barra muestra cuantos datos hay en ese grupo\n",
        "####4. Ejes: (X) Muestra los intervalos de datos -grupos-, (Y) Muestra cuantos datos hay en cada intervalo -Frecuencia-\n",
        "\n",
        "##**Interpretacion del histograma**\n",
        "####1.Distribucion: Se puede ver la forma en la que se disribuyen los grupos. Por ejemplo si la mayoria de los datos estan en los intervalos centrales, es un distribucion mas uniforme\n",
        "####2.Tendencias y patrones: Se puede indentificar tendencias o patrones, como si hay mas datos en u intervalo especifico.\n",
        "####3.Valores atipicos: Los histogramas pueden ayudar a ver si hay valores atipicos (atipico: es un dato que se encuentra muy lejos de la mayoria de los demas datos en un conjunto)\n",
        "\n",
        "![texto del vínculo](https://drive.google.com/uc?id=1J2txhLWR4GF9Y7fRgnuOky5yJTYcRl4C)\n",
        "\n",
        "\n",
        "\n"
      ],
      "metadata": {
        "id": "3AlFTi1TMUvj"
      }
    },
    {
      "cell_type": "markdown",
      "source": [
        "##**Ejemplo del histograma**\n",
        "###Calificaciones de un grupo de estudiantes:\n",
        "(55,60,62,65,70,72,75,78,80,82,85,88,90,92,95,98,100)\n",
        "\n",
        "####1. Determinamos el rango y los intervalos:\n",
        "#####-Valor menor: 55\n",
        "#####-Valor mayor: 100\n",
        "#####-Num de intervalos: 5 intervalos\n",
        "\n",
        "####2. Calculamos el ancho de los intervalos:\n",
        "#####-Rango: 100-55 = 45\n",
        "#####-Ancho de intervalo 45/5 = 9 (redondeamos a 10 por facilidad)\n",
        "\n",
        "####1. Definir los intervalos:\n",
        "#####- 1: 55-64\n",
        "#####- 2: 65-74\n",
        "#####- 3: 75-84\n",
        "#####- 4: 85-94\n",
        "#####- 5: 95-100\n",
        "\n",
        "####1. Contar la frecuencia de cada intervalo:\n",
        "#####- 1 (55-64): 3 estudiantes (55,60,62)\n",
        "#####- 2 (65-74): 3 estudiantes (65,70,72)\n",
        "#####- 3 (75-84): 4 estudiantes (75,78,80,82)\n",
        "#####- 4 (85-94): 5 estudiantes (85,88,90,92)\n",
        "#####- 5 (95-100): 2 estudiantes (95,98,100)\n",
        "\n",
        "###Interpretacion:\n",
        "#### El intervalo 85-94 tiene la mayor cantidad de estudiantes\n",
        "#### El intervalo 95-100 tiene la menor cantidad de estudiantes"
      ],
      "metadata": {
        "id": "pjEFWipYlSOt"
      }
    }
  ]
}